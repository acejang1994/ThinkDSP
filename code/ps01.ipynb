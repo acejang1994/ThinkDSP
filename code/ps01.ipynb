{
 "metadata": {
  "name": "",
  "signature": "sha256:85e9a9f23feac0db2d167334689a015607ce9fda5263267aebe823c306a33500"
 },
 "nbformat": 3,
 "nbformat_minor": 0,
 "worksheets": [
  {
   "cells": [
    {
     "cell_type": "markdown",
     "metadata": {},
     "source": [
      "###Question1"
     ]
    },
    {
     "cell_type": "code",
     "collapsed": false,
     "input": [
      "from __future__ import print_function, division\n",
      "\n",
      "%matplotlib inline\n",
      "\n",
      "import thinkdsp\n",
      "import thinkplot\n",
      "\n",
      "wave = thinkdsp.read_wave('newTest.wav')\n",
      "wave.make_audio()"
     ],
     "language": "python",
     "metadata": {},
     "outputs": []
    },
    {
     "cell_type": "markdown",
     "metadata": {},
     "source": [
      "I chose a random recording of my voice that was sitting in my Olin folder"
     ]
    },
    {
     "cell_type": "markdown",
     "metadata": {},
     "source": [
      "###Question2"
     ]
    },
    {
     "cell_type": "code",
     "collapsed": false,
     "input": [
      "segment = wave.segment(2,2)\n",
      "segment1 = wave.segment(2,.1)\n",
      "segment1.plot()"
     ],
     "language": "python",
     "metadata": {},
     "outputs": []
    },
    {
     "cell_type": "markdown",
     "metadata": {},
     "source": [
      "Even though it is not a perfect sinusoidal wave, we can see the repetition in the short .1 frame when segment1 is plotted. It definitely seems like it is a mixtures of sinusoidal waves"
     ]
    },
    {
     "cell_type": "markdown",
     "metadata": {},
     "source": [
      "###Question3"
     ]
    },
    {
     "cell_type": "code",
     "collapsed": false,
     "input": [
      "wave.segment(2,.5).make_spectrum().plot()"
     ],
     "language": "python",
     "metadata": {},
     "outputs": []
    },
    {
     "cell_type": "markdown",
     "metadata": {},
     "source": [
      "It is very hard to distinguish any harmonics since they are all clumped together all under 2000Hz. Since the signal is a recording of my voice, it makes sense that there is no one frequency that really stands out. "
     ]
    },
    {
     "cell_type": "markdown",
     "metadata": {},
     "source": [
      "###Question4"
     ]
    },
    {
     "cell_type": "code",
     "collapsed": false,
     "input": [
      "low_spec = segment.make_spectrum()\n",
      "high_spec = segment.make_spectrum()\n",
      "band_stop = segment.make_spectrum()"
     ],
     "language": "python",
     "metadata": {},
     "outputs": []
    },
    {
     "cell_type": "code",
     "collapsed": false,
     "input": [
      "low_spec.low_pass(cutoff= 600)\n",
      "low_spec.plot()"
     ],
     "language": "python",
     "metadata": {},
     "outputs": []
    },
    {
     "cell_type": "markdown",
     "metadata": {},
     "source": [
      "We can see that any frequencies above 600Hz were totally cut off."
     ]
    },
    {
     "cell_type": "code",
     "collapsed": false,
     "input": [
      "high_spec.high_pass(cutoff= 1000)\n",
      "high_spec.plot()"
     ],
     "language": "python",
     "metadata": {},
     "outputs": []
    },
    {
     "cell_type": "markdown",
     "metadata": {},
     "source": [
      "Highpass filter eliminated any frequency below 1000."
     ]
    },
    {
     "cell_type": "code",
     "collapsed": false,
     "input": [
      "band_stop.band_stop(low_cutoff= 600, high_cutoff= 5000)\n",
      "band_stop.plot()"
     ],
     "language": "python",
     "metadata": {},
     "outputs": []
    },
    {
     "cell_type": "markdown",
     "metadata": {},
     "source": [
      "Bandstop filter eliminated any frequency between 600 and 5000."
     ]
    },
    {
     "cell_type": "markdown",
     "metadata": {},
     "source": [
      "###Question5"
     ]
    },
    {
     "cell_type": "code",
     "collapsed": false,
     "input": [
      "ranSig = thinkdsp.CosSignal(freq=392)\n",
      "harmSig = thinkdsp.CosSignal(freq=784)\n",
      "total = ranSig+harmSig\n",
      "total.make_wave().make_audio()"
     ],
     "language": "python",
     "metadata": {},
     "outputs": []
    },
    {
     "cell_type": "markdown",
     "metadata": {},
     "source": [
      "392Hz is G4 and 784Hz is G5 so obviously if you mix them together than it will sound like a G"
     ]
    },
    {
     "cell_type": "code",
     "collapsed": false,
     "input": [
      "ranSig = thinkdsp.CosSignal(freq=392)\n",
      "harmSig = thinkdsp.CosSignal(freq=784)\n",
      "harmSig2 = thinkdsp.CosSignal(freq=1176)\n",
      "total = ranSig+harmSig+harmSig2\n",
      "total.make_wave().make_audio()"
     ],
     "language": "python",
     "metadata": {},
     "outputs": []
    },
    {
     "cell_type": "markdown",
     "metadata": {},
     "source": [
      "Here I added another harmonics 1176Hz, which is a triple of 392"
     ]
    },
    {
     "cell_type": "code",
     "collapsed": false,
     "input": [
      "ranSig = thinkdsp.CosSignal(freq=392)\n",
      "harmSig = thinkdsp.CosSignal(freq=700)\n",
      "harmSig2 = thinkdsp.CosSignal(freq=1100)\n",
      "total = ranSig+harmSig+harmSig2\n",
      "total.make_wave().make_audio()"
     ],
     "language": "python",
     "metadata": {},
     "outputs": []
    },
    {
     "cell_type": "markdown",
     "metadata": {},
     "source": [
      "If we mix signals that are not harmonic with each other then you get this terrible sound that just doesn't sound right even to someone who have never played music ever."
     ]
    },
    {
     "cell_type": "markdown",
     "metadata": {},
     "source": [
      "###Question6"
     ]
    },
    {
     "cell_type": "code",
     "collapsed": false,
     "input": [
      "import math\n",
      "import numpy\n",
      "class SawtoothSignal(thinkdsp.Sinusoid):\n",
      "    def evaluate(self, ts):\n",
      "        cycles = self.freq * ts + self.offset / (math.pi*2)\n",
      "        frac, _ = numpy.modf(cycles)\n",
      "        ys = thinkdsp.normalize(thinkdsp.unbias(frac), self.amp)\n",
      "        return ys\n",
      "    "
     ],
     "language": "python",
     "metadata": {},
     "outputs": []
    },
    {
     "cell_type": "markdown",
     "metadata": {},
     "source": [
      "###Question7"
     ]
    },
    {
     "cell_type": "code",
     "collapsed": false,
     "input": [
      "signal = SawtoothSignal(1100)\n",
      "segment = signal.make_wave(1, framerate=10000)\n",
      "segment.make_spectrum().plot()\n",
      "segment.make_audio()"
     ],
     "language": "python",
     "metadata": {},
     "outputs": []
    },
    {
     "cell_type": "code",
     "collapsed": false,
     "input": [
      "segment.segment(0,.004).plot()"
     ],
     "language": "python",
     "metadata": {},
     "outputs": []
    },
    {
     "cell_type": "markdown",
     "metadata": {},
     "source": [
      "As looking at a segment of the wave showned above, we can clearly see that it is a sawtooth wave signal oscillating between 1 and -1. The sounds is pretty terrible.\n",
      "The spectrum of a sawtooth shows that for the big peaks, there are definitely harmonic relationship since they are all multiples of 1100, which is the dominant frequency. The Triangle signal has the cleanest spectrum but it only shows odd multiples harmonics of the fundamental frequency. The Square signal looks simliar to the sawtooth signal except it only shows odd multiples harmonics of the fundamental frequency similiar to the Triangle signal."
     ]
    },
    {
     "cell_type": "markdown",
     "metadata": {},
     "source": [
      "###Question8"
     ]
    },
    {
     "cell_type": "code",
     "collapsed": false,
     "input": [
      "signal = thinkdsp.TriangleSignal(1100)\n",
      "signal2 = thinkdsp.TriangleSignal(2200)\n",
      "signal3 = thinkdsp.TriangleSignal(4400)\n",
      "signal4 = thinkdsp.TriangleSignal(6600)\n",
      "\n",
      "segment = signal.make_wave(1, framerate=10000)\n",
      "segment.make_spectrum().plot()\n",
      "segment.make_audio()"
     ],
     "language": "python",
     "metadata": {},
     "outputs": []
    },
    {
     "cell_type": "code",
     "collapsed": false,
     "input": [
      "segment2 = signal2.make_wave(1, framerate=10000)\n",
      "segment2.make_spectrum().plot()\n",
      "segment2.make_audio()"
     ],
     "language": "python",
     "metadata": {},
     "outputs": []
    },
    {
     "cell_type": "code",
     "collapsed": false,
     "input": [
      "segment3 = signal3.make_wave(1, framerate=10000)\n",
      "segment3.make_spectrum().plot()\n",
      "segment3.make_audio()"
     ],
     "language": "python",
     "metadata": {},
     "outputs": []
    },
    {
     "cell_type": "code",
     "collapsed": false,
     "input": [
      "segment4 = signal4.make_wave(1, framerate=10000)\n",
      "segment4.make_spectrum().plot()\n",
      "segment4.make_audio()"
     ],
     "language": "python",
     "metadata": {},
     "outputs": []
    },
    {
     "cell_type": "markdown",
     "metadata": {},
     "source": [
      "At first when I listened to 1100 signal, I couldn't really hear any alising. As I went up in the frequency, the note sounded higher buy I could also hear very low undertone that stood out as the frequency increased. Looking at the spectrum, we can see that frequencies higher than 5000Hz cycled back to inject an small fundamental frequency which disrupts our percieved pitch. Yes we can hear aliased harmonic."
     ]
    },
    {
     "cell_type": "code",
     "collapsed": false,
     "input": [
      "segment.segment(0,.004).plot()"
     ],
     "language": "python",
     "metadata": {},
     "outputs": []
    },
    {
     "cell_type": "markdown",
     "metadata": {},
     "source": [
      "Interestingly the triangle wave sounds the cleanest out of the three wave signals that we generated which makes sense because the triangle wave has the shape that resembles a sinusoidal the most. "
     ]
    },
    {
     "cell_type": "markdown",
     "metadata": {},
     "source": [
      "###Question9"
     ]
    },
    {
     "cell_type": "code",
     "collapsed": false,
     "input": [
      "signal = thinkdsp.SquareSignal(1100)\n",
      "segment = signal.make_wave(1, framerate=10000)\n",
      "segment.make_spectrum().plot()\n",
      "segment.make_audio()"
     ],
     "language": "python",
     "metadata": {},
     "outputs": []
    },
    {
     "cell_type": "code",
     "collapsed": false,
     "input": [
      "segment.segment(0,.004).plot()"
     ],
     "language": "python",
     "metadata": {},
     "outputs": []
    },
    {
     "cell_type": "markdown",
     "metadata": {},
     "source": [
      "The spectrum of the squarewave looks similar to spectrum of the sawtoothwave and has a peak every integer multiple of the dominant frequency. The triangle wave only shows peak at every odd multiples. Both waves have aliasing since frequencies seem to be circling back to add fundamental frequencies that are much lower than the dominant frequencies."
     ]
    },
    {
     "cell_type": "code",
     "collapsed": false,
     "input": [
      "f = 1000\n",
      "sig1 = thinkdsp.CosSignal(freq=f, amp = 4000)\n",
      "sig2 = thinkdsp.CosSignal(freq=f+100, amp = 2000)\n",
      "sig3 = thinkdsp.CosSignal(freq=f+200, amp = 2000)\n",
      "sig4 = thinkdsp.CosSignal(freq=f+300, amp = 2000)"
     ],
     "language": "python",
     "metadata": {},
     "outputs": []
    },
    {
     "cell_type": "markdown",
     "metadata": {},
     "source": [
      "###Question10"
     ]
    },
    {
     "cell_type": "code",
     "collapsed": false,
     "input": [
      "hs = numpy.zeros(5000, dtype=numpy.complex64)\n",
      "\n",
      "for freq in range(100,5000,100):\n",
      "    hs[freq] = 1/(freq**2)\n",
      "    \n",
      "spec = thinkdsp.Spectrum(hs,framerate=10000)\n",
      "spec.plot()"
     ],
     "language": "python",
     "metadata": {},
     "outputs": []
    },
    {
     "cell_type": "markdown",
     "metadata": {},
     "source": [
      "I actually do not understand what \"the wave drop off in proportion to 1/f\". I assumed that the amplitude drops off in 1/f but the spectrums of triangle, sawtooth, and square do not look like the waveform that I created."
     ]
    }
   ],
   "metadata": {}
  }
 ]
}