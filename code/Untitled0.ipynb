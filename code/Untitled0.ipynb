{
 "metadata": {
  "name": "",
  "signature": "sha256:164bec5d1abea4f66a43d1dd1039fd45b66efe78dffae1a06b4ecbad6ba99a18"
 },
 "nbformat": 3,
 "nbformat_minor": 0,
 "worksheets": []
}