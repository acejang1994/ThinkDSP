{
 "metadata": {
  "name": "",
  "signature": "sha256:3a6e9311b90fb0c4ad0b18b9750b1065a34212588c37389a80f36171c829e385"
 },
 "nbformat": 3,
 "nbformat_minor": 0,
 "worksheets": [
  {
   "cells": [
    {
     "cell_type": "markdown",
     "metadata": {},
     "source": [
      "ThinkDSP, by Allen Downey\n",
      "(think-dsp.com)\n",
      "\n",
      "This notebook contains code examples from Chapter 8: Filtering and convolution"
     ]
    },
    {
     "cell_type": "code",
     "collapsed": false,
     "input": [
      "from __future__ import print_function, division\n",
      "\n",
      "import thinkdsp\n",
      "import thinkplot\n",
      "import thinkstats2\n",
      "import math\n",
      "import numpy\n",
      "import pandas\n",
      "import scipy.signal\n",
      "\n",
      "%precision 3\n",
      "%matplotlib inline\n",
      "\n",
      "PI2 = 2 * math.pi"
     ],
     "language": "python",
     "metadata": {},
     "outputs": [],
     "prompt_number": 1
    },
    {
     "cell_type": "markdown",
     "metadata": {},
     "source": [
      "Read the daily price of bitcoins."
     ]
    },
    {
     "cell_type": "code",
     "collapsed": false,
     "input": [
      "nrows = 1625\n",
      "df = pandas.read_csv('coindesk-bpi-USD-close.csv', nrows=nrows, parse_dates=[0])"
     ],
     "language": "python",
     "metadata": {},
     "outputs": [
      {
       "ename": "IOError",
       "evalue": "File coindesk-bpi-USD-close.csv does not exist",
       "output_type": "pyerr",
       "traceback": [
        "\u001b[1;31m---------------------------------------------------------------------------\u001b[0m\n\u001b[1;31mIOError\u001b[0m                                   Traceback (most recent call last)",
        "\u001b[1;32m<ipython-input-2-dfe72bd07e39>\u001b[0m in \u001b[0;36m<module>\u001b[1;34m()\u001b[0m\n\u001b[0;32m      1\u001b[0m \u001b[0mnrows\u001b[0m \u001b[1;33m=\u001b[0m \u001b[1;36m1625\u001b[0m\u001b[1;33m\u001b[0m\u001b[0m\n\u001b[1;32m----> 2\u001b[1;33m \u001b[0mdf\u001b[0m \u001b[1;33m=\u001b[0m \u001b[0mpandas\u001b[0m\u001b[1;33m.\u001b[0m\u001b[0mread_csv\u001b[0m\u001b[1;33m(\u001b[0m\u001b[1;34m'coindesk-bpi-USD-close.csv'\u001b[0m\u001b[1;33m,\u001b[0m \u001b[0mnrows\u001b[0m\u001b[1;33m=\u001b[0m\u001b[0mnrows\u001b[0m\u001b[1;33m,\u001b[0m \u001b[0mparse_dates\u001b[0m\u001b[1;33m=\u001b[0m\u001b[1;33m[\u001b[0m\u001b[1;36m0\u001b[0m\u001b[1;33m]\u001b[0m\u001b[1;33m)\u001b[0m\u001b[1;33m\u001b[0m\u001b[0m\n\u001b[0m",
        "\u001b[1;32m/home/james/anaconda/lib/python2.7/site-packages/pandas/io/parsers.pyc\u001b[0m in \u001b[0;36mparser_f\u001b[1;34m(filepath_or_buffer, sep, dialect, compression, doublequote, escapechar, quotechar, quoting, skipinitialspace, lineterminator, header, index_col, names, prefix, skiprows, skipfooter, skip_footer, na_values, na_fvalues, true_values, false_values, delimiter, converters, dtype, usecols, engine, delim_whitespace, as_recarray, na_filter, compact_ints, use_unsigned, low_memory, buffer_lines, warn_bad_lines, error_bad_lines, keep_default_na, thousands, comment, decimal, parse_dates, keep_date_col, dayfirst, date_parser, memory_map, nrows, iterator, chunksize, verbose, encoding, squeeze, mangle_dupe_cols, tupleize_cols, infer_datetime_format)\u001b[0m\n\u001b[0;32m    450\u001b[0m                     infer_datetime_format=infer_datetime_format)\n\u001b[0;32m    451\u001b[0m \u001b[1;33m\u001b[0m\u001b[0m\n\u001b[1;32m--> 452\u001b[1;33m         \u001b[1;32mreturn\u001b[0m \u001b[0m_read\u001b[0m\u001b[1;33m(\u001b[0m\u001b[0mfilepath_or_buffer\u001b[0m\u001b[1;33m,\u001b[0m \u001b[0mkwds\u001b[0m\u001b[1;33m)\u001b[0m\u001b[1;33m\u001b[0m\u001b[0m\n\u001b[0m\u001b[0;32m    453\u001b[0m \u001b[1;33m\u001b[0m\u001b[0m\n\u001b[0;32m    454\u001b[0m     \u001b[0mparser_f\u001b[0m\u001b[1;33m.\u001b[0m\u001b[0m__name__\u001b[0m \u001b[1;33m=\u001b[0m \u001b[0mname\u001b[0m\u001b[1;33m\u001b[0m\u001b[0m\n",
        "\u001b[1;32m/home/james/anaconda/lib/python2.7/site-packages/pandas/io/parsers.pyc\u001b[0m in \u001b[0;36m_read\u001b[1;34m(filepath_or_buffer, kwds)\u001b[0m\n\u001b[0;32m    232\u001b[0m \u001b[1;33m\u001b[0m\u001b[0m\n\u001b[0;32m    233\u001b[0m     \u001b[1;31m# Create the parser.\u001b[0m\u001b[1;33m\u001b[0m\u001b[1;33m\u001b[0m\u001b[0m\n\u001b[1;32m--> 234\u001b[1;33m     \u001b[0mparser\u001b[0m \u001b[1;33m=\u001b[0m \u001b[0mTextFileReader\u001b[0m\u001b[1;33m(\u001b[0m\u001b[0mfilepath_or_buffer\u001b[0m\u001b[1;33m,\u001b[0m \u001b[1;33m**\u001b[0m\u001b[0mkwds\u001b[0m\u001b[1;33m)\u001b[0m\u001b[1;33m\u001b[0m\u001b[0m\n\u001b[0m\u001b[0;32m    235\u001b[0m \u001b[1;33m\u001b[0m\u001b[0m\n\u001b[0;32m    236\u001b[0m     \u001b[1;32mif\u001b[0m \u001b[1;33m(\u001b[0m\u001b[0mnrows\u001b[0m \u001b[1;32mis\u001b[0m \u001b[1;32mnot\u001b[0m \u001b[0mNone\u001b[0m\u001b[1;33m)\u001b[0m \u001b[1;32mand\u001b[0m \u001b[1;33m(\u001b[0m\u001b[0mchunksize\u001b[0m \u001b[1;32mis\u001b[0m \u001b[1;32mnot\u001b[0m \u001b[0mNone\u001b[0m\u001b[1;33m)\u001b[0m\u001b[1;33m:\u001b[0m\u001b[1;33m\u001b[0m\u001b[0m\n",
        "\u001b[1;32m/home/james/anaconda/lib/python2.7/site-packages/pandas/io/parsers.pyc\u001b[0m in \u001b[0;36m__init__\u001b[1;34m(self, f, engine, **kwds)\u001b[0m\n\u001b[0;32m    540\u001b[0m             \u001b[0mself\u001b[0m\u001b[1;33m.\u001b[0m\u001b[0moptions\u001b[0m\u001b[1;33m[\u001b[0m\u001b[1;34m'has_index_names'\u001b[0m\u001b[1;33m]\u001b[0m \u001b[1;33m=\u001b[0m \u001b[0mkwds\u001b[0m\u001b[1;33m[\u001b[0m\u001b[1;34m'has_index_names'\u001b[0m\u001b[1;33m]\u001b[0m\u001b[1;33m\u001b[0m\u001b[0m\n\u001b[0;32m    541\u001b[0m \u001b[1;33m\u001b[0m\u001b[0m\n\u001b[1;32m--> 542\u001b[1;33m         \u001b[0mself\u001b[0m\u001b[1;33m.\u001b[0m\u001b[0m_make_engine\u001b[0m\u001b[1;33m(\u001b[0m\u001b[0mself\u001b[0m\u001b[1;33m.\u001b[0m\u001b[0mengine\u001b[0m\u001b[1;33m)\u001b[0m\u001b[1;33m\u001b[0m\u001b[0m\n\u001b[0m\u001b[0;32m    543\u001b[0m \u001b[1;33m\u001b[0m\u001b[0m\n\u001b[0;32m    544\u001b[0m     \u001b[1;32mdef\u001b[0m \u001b[0m_get_options_with_defaults\u001b[0m\u001b[1;33m(\u001b[0m\u001b[0mself\u001b[0m\u001b[1;33m,\u001b[0m \u001b[0mengine\u001b[0m\u001b[1;33m)\u001b[0m\u001b[1;33m:\u001b[0m\u001b[1;33m\u001b[0m\u001b[0m\n",
        "\u001b[1;32m/home/james/anaconda/lib/python2.7/site-packages/pandas/io/parsers.pyc\u001b[0m in \u001b[0;36m_make_engine\u001b[1;34m(self, engine)\u001b[0m\n\u001b[0;32m    677\u001b[0m     \u001b[1;32mdef\u001b[0m \u001b[0m_make_engine\u001b[0m\u001b[1;33m(\u001b[0m\u001b[0mself\u001b[0m\u001b[1;33m,\u001b[0m \u001b[0mengine\u001b[0m\u001b[1;33m=\u001b[0m\u001b[1;34m'c'\u001b[0m\u001b[1;33m)\u001b[0m\u001b[1;33m:\u001b[0m\u001b[1;33m\u001b[0m\u001b[0m\n\u001b[0;32m    678\u001b[0m         \u001b[1;32mif\u001b[0m \u001b[0mengine\u001b[0m \u001b[1;33m==\u001b[0m \u001b[1;34m'c'\u001b[0m\u001b[1;33m:\u001b[0m\u001b[1;33m\u001b[0m\u001b[0m\n\u001b[1;32m--> 679\u001b[1;33m             \u001b[0mself\u001b[0m\u001b[1;33m.\u001b[0m\u001b[0m_engine\u001b[0m \u001b[1;33m=\u001b[0m \u001b[0mCParserWrapper\u001b[0m\u001b[1;33m(\u001b[0m\u001b[0mself\u001b[0m\u001b[1;33m.\u001b[0m\u001b[0mf\u001b[0m\u001b[1;33m,\u001b[0m \u001b[1;33m**\u001b[0m\u001b[0mself\u001b[0m\u001b[1;33m.\u001b[0m\u001b[0moptions\u001b[0m\u001b[1;33m)\u001b[0m\u001b[1;33m\u001b[0m\u001b[0m\n\u001b[0m\u001b[0;32m    680\u001b[0m         \u001b[1;32melse\u001b[0m\u001b[1;33m:\u001b[0m\u001b[1;33m\u001b[0m\u001b[0m\n\u001b[0;32m    681\u001b[0m             \u001b[1;32mif\u001b[0m \u001b[0mengine\u001b[0m \u001b[1;33m==\u001b[0m \u001b[1;34m'python'\u001b[0m\u001b[1;33m:\u001b[0m\u001b[1;33m\u001b[0m\u001b[0m\n",
        "\u001b[1;32m/home/james/anaconda/lib/python2.7/site-packages/pandas/io/parsers.pyc\u001b[0m in \u001b[0;36m__init__\u001b[1;34m(self, src, **kwds)\u001b[0m\n\u001b[0;32m   1039\u001b[0m         \u001b[0mkwds\u001b[0m\u001b[1;33m[\u001b[0m\u001b[1;34m'allow_leading_cols'\u001b[0m\u001b[1;33m]\u001b[0m \u001b[1;33m=\u001b[0m \u001b[0mself\u001b[0m\u001b[1;33m.\u001b[0m\u001b[0mindex_col\u001b[0m \u001b[1;32mis\u001b[0m \u001b[1;32mnot\u001b[0m \u001b[0mFalse\u001b[0m\u001b[1;33m\u001b[0m\u001b[0m\n\u001b[0;32m   1040\u001b[0m \u001b[1;33m\u001b[0m\u001b[0m\n\u001b[1;32m-> 1041\u001b[1;33m         \u001b[0mself\u001b[0m\u001b[1;33m.\u001b[0m\u001b[0m_reader\u001b[0m \u001b[1;33m=\u001b[0m \u001b[0m_parser\u001b[0m\u001b[1;33m.\u001b[0m\u001b[0mTextReader\u001b[0m\u001b[1;33m(\u001b[0m\u001b[0msrc\u001b[0m\u001b[1;33m,\u001b[0m \u001b[1;33m**\u001b[0m\u001b[0mkwds\u001b[0m\u001b[1;33m)\u001b[0m\u001b[1;33m\u001b[0m\u001b[0m\n\u001b[0m\u001b[0;32m   1042\u001b[0m \u001b[1;33m\u001b[0m\u001b[0m\n\u001b[0;32m   1043\u001b[0m         \u001b[1;31m# XXX\u001b[0m\u001b[1;33m\u001b[0m\u001b[1;33m\u001b[0m\u001b[0m\n",
        "\u001b[1;32m/home/james/anaconda/lib/python2.7/site-packages/pandas/parser.so\u001b[0m in \u001b[0;36mpandas.parser.TextReader.__cinit__ (pandas/parser.c:3218)\u001b[1;34m()\u001b[0m\n",
        "\u001b[1;32m/home/james/anaconda/lib/python2.7/site-packages/pandas/parser.so\u001b[0m in \u001b[0;36mpandas.parser.TextReader._setup_parser_source (pandas/parser.c:5594)\u001b[1;34m()\u001b[0m\n",
        "\u001b[1;31mIOError\u001b[0m: File coindesk-bpi-USD-close.csv does not exist"
       ]
      }
     ],
     "prompt_number": 2
    },
    {
     "cell_type": "markdown",
     "metadata": {},
     "source": [
      "Extract the closing prices from the datafram and compute daily change and daily percent change."
     ]
    },
    {
     "cell_type": "code",
     "collapsed": false,
     "input": [
      "ys = df.Close.values\n",
      "diff = numpy.diff(ys)\n",
      "changes = 100 * diff / ys[:len(diff)]"
     ],
     "language": "python",
     "metadata": {},
     "outputs": []
    },
    {
     "cell_type": "markdown",
     "metadata": {},
     "source": [
      "Make a window to compute a 30-day moving average and convolve the window with the data."
     ]
    },
    {
     "cell_type": "code",
     "collapsed": false,
     "input": [
      "window = numpy.ones(30)\n",
      "window /= sum(window)\n",
      "smoothed = numpy.convolve(changes, window, mode='same')"
     ],
     "language": "python",
     "metadata": {},
     "outputs": []
    },
    {
     "cell_type": "markdown",
     "metadata": {},
     "source": [
      "Plot the original and smoothed signals."
     ]
    },
    {
     "cell_type": "code",
     "collapsed": false,
     "input": [
      "thinkplot.preplot(1)\n",
      "thinkplot.plot(changes, color='0.7', label='daily')\n",
      "thinkplot.plot(smoothed, label='30 day average')\n",
      "thinkplot.config(xlabel='time (days)', \n",
      "                 ylabel='% change',\n",
      "                 xlim=[0, nrows],\n",
      "                 ylim=[-60, 60],\n",
      "                 loc='lower right')"
     ],
     "language": "python",
     "metadata": {},
     "outputs": []
    },
    {
     "cell_type": "markdown",
     "metadata": {},
     "source": [
      "Generate a 440 Hz square signal."
     ]
    },
    {
     "cell_type": "code",
     "collapsed": false,
     "input": [
      "signal = thinkdsp.SquareSignal(freq=440)\n",
      "wave = signal.make_wave(duration=1, framerate=44100)\n",
      "wave.make_audio()"
     ],
     "language": "python",
     "metadata": {},
     "outputs": []
    },
    {
     "cell_type": "markdown",
     "metadata": {},
     "source": [
      "Make a moving average window."
     ]
    },
    {
     "cell_type": "code",
     "collapsed": false,
     "input": [
      "window = numpy.ones(11)\n",
      "window /= sum(window)\n",
      "thinkplot.plot(window)"
     ],
     "language": "python",
     "metadata": {},
     "outputs": []
    },
    {
     "cell_type": "markdown",
     "metadata": {},
     "source": [
      "Plot the square wave."
     ]
    },
    {
     "cell_type": "code",
     "collapsed": false,
     "input": [
      "segment = wave.segment(duration=0.01)\n",
      "segment.plot()\n",
      "thinkplot.config(ylim=[-1.05, 1.05], legend=False)"
     ],
     "language": "python",
     "metadata": {},
     "outputs": []
    },
    {
     "cell_type": "markdown",
     "metadata": {},
     "source": [
      "Pad the window so it's the same length as the signal, and plot it."
     ]
    },
    {
     "cell_type": "code",
     "collapsed": false,
     "input": [
      "def zero_pad(array, n):\n",
      "    res = numpy.zeros(n)\n",
      "    res[:len(array)] = array\n",
      "    return res\n",
      "\n",
      "N = len(segment)\n",
      "padded = zero_pad(window, N)\n",
      "thinkplot.plot(padded)"
     ],
     "language": "python",
     "metadata": {},
     "outputs": []
    },
    {
     "cell_type": "markdown",
     "metadata": {},
     "source": [
      "Apply the window to the signal (with lag=0)."
     ]
    },
    {
     "cell_type": "code",
     "collapsed": false,
     "input": [
      "prod = padded * segment.ys\n",
      "print(sum(prod))"
     ],
     "language": "python",
     "metadata": {},
     "outputs": []
    },
    {
     "cell_type": "markdown",
     "metadata": {},
     "source": [
      "Compute a convolution by rolling the window to the right."
     ]
    },
    {
     "cell_type": "code",
     "collapsed": false,
     "input": [
      "smoothed = numpy.zeros(N)\n",
      "rolled = padded\n",
      "for i in range(len(segment.ys)):\n",
      "    smoothed[i] = sum(rolled * segment.ys)\n",
      "    rolled = numpy.roll(rolled, 1)"
     ],
     "language": "python",
     "metadata": {},
     "outputs": []
    },
    {
     "cell_type": "markdown",
     "metadata": {},
     "source": [
      "Plot the result of the convolution and the original."
     ]
    },
    {
     "cell_type": "code",
     "collapsed": false,
     "input": [
      "segment.plot(color='0.7')\n",
      "smooth = thinkdsp.Wave(smoothed, framerate=wave.framerate)\n",
      "smooth.plot()\n",
      "thinkplot.config(ylim=[-1.05, 1.05], legend=False)"
     ],
     "language": "python",
     "metadata": {},
     "outputs": []
    },
    {
     "cell_type": "markdown",
     "metadata": {},
     "source": [
      "Compute the same convolution using `numpy.convolve`."
     ]
    },
    {
     "cell_type": "code",
     "collapsed": false,
     "input": [
      "segment.plot(color='0.7')\n",
      "ys = numpy.convolve(segment.ys, window, mode='valid')\n",
      "smooth2 = thinkdsp.Wave(ys, framerate=wave.framerate)\n",
      "smooth2.plot()\n",
      "thinkplot.config(ylim=[-1.05, 1.05], legend=False)"
     ],
     "language": "python",
     "metadata": {},
     "outputs": []
    },
    {
     "cell_type": "markdown",
     "metadata": {},
     "source": [
      "Let's see what's happening in the frequency domain.  Compute the spectrum of the original square wave:"
     ]
    },
    {
     "cell_type": "code",
     "collapsed": false,
     "input": [
      "spectrum = wave.make_spectrum()"
     ],
     "language": "python",
     "metadata": {},
     "outputs": []
    },
    {
     "cell_type": "markdown",
     "metadata": {},
     "source": [
      "Compute the spectrum of the smoothed wave:"
     ]
    },
    {
     "cell_type": "code",
     "collapsed": false,
     "input": [
      "ys = numpy.convolve(wave.ys, window, mode='same')\n",
      "smooth = thinkdsp.Wave(ys, framerate=wave.framerate)\n",
      "spectrum2 = smooth.make_spectrum()"
     ],
     "language": "python",
     "metadata": {},
     "outputs": []
    },
    {
     "cell_type": "markdown",
     "metadata": {},
     "source": [
      "Plot spectrums of the original and smoothed waves:"
     ]
    },
    {
     "cell_type": "code",
     "collapsed": false,
     "input": [
      "spectrum2.plot()\n",
      "spectrum.plot(color='0.7')"
     ],
     "language": "python",
     "metadata": {},
     "outputs": []
    },
    {
     "cell_type": "markdown",
     "metadata": {},
     "source": [
      "For each harmonic, compute the ratio of the amplitudes before and after smoothing."
     ]
    },
    {
     "cell_type": "code",
     "collapsed": false,
     "input": [
      "amps = spectrum.amps\n",
      "amps2 = spectrum2.amps\n",
      "ratio = amps2 / amps    \n",
      "ratio[amps<560] = 0\n",
      "thinkplot.plot(ratio)\n",
      "\n",
      "thinkplot.config(xlabel='frequency (Hz)',\n",
      "                     ylabel='amplitude ratio',\n",
      "                     xlim=[0, 22050], \n",
      "                     legend=False)"
     ],
     "language": "python",
     "metadata": {},
     "outputs": []
    },
    {
     "cell_type": "markdown",
     "metadata": {},
     "source": [
      "Plot the ratios again, but also plot the FFT of the window."
     ]
    },
    {
     "cell_type": "code",
     "collapsed": false,
     "input": [
      "padded = zero_pad(window, len(wave))\n",
      "dft_window = numpy.fft.rfft(padded)\n",
      "\n",
      "thinkplot.plot(abs(dft_window), color='0.7', label='boxcar filter')\n",
      "# thinkplot.plot(ratio, label='amplitude ratio')\n",
      "\n",
      "thinkplot.config(xlabel='frequency (Hz)',\n",
      "                     ylabel='amplitude ratio',\n",
      "                     xlim=[0, 22050], \n",
      "                     legend=False)"
     ],
     "language": "python",
     "metadata": {},
     "outputs": []
    },
    {
     "cell_type": "markdown",
     "metadata": {},
     "source": [
      "Let's start again and use a Gaussian window instead of a boxcar."
     ]
    },
    {
     "cell_type": "code",
     "collapsed": false,
     "input": [
      "signal = thinkdsp.SquareSignal(freq=440)\n",
      "wave = signal.make_wave(duration=1, framerate=44100)\n",
      "spectrum = wave.make_spectrum()"
     ],
     "language": "python",
     "metadata": {},
     "outputs": []
    },
    {
     "cell_type": "markdown",
     "metadata": {},
     "source": [
      "Make the boxcar window."
     ]
    },
    {
     "cell_type": "code",
     "collapsed": false,
     "input": [
      "boxcar = numpy.ones(11)\n",
      "boxcar /= sum(boxcar)"
     ],
     "language": "python",
     "metadata": {},
     "outputs": []
    },
    {
     "cell_type": "markdown",
     "metadata": {},
     "source": [
      "Make the Gaussian window."
     ]
    },
    {
     "cell_type": "code",
     "collapsed": false,
     "input": [
      "gaussian = scipy.signal.gaussian(M=11, std=2)\n",
      "gaussian /= sum(gaussian)"
     ],
     "language": "python",
     "metadata": {},
     "outputs": []
    },
    {
     "cell_type": "markdown",
     "metadata": {},
     "source": [
      "Plot the two windows."
     ]
    },
    {
     "cell_type": "code",
     "collapsed": false,
     "input": [
      "thinkplot.preplot(2)\n",
      "thinkplot.plot(boxcar, label='boxcar')\n",
      "thinkplot.plot(gaussian, label='Gaussian')\n",
      "thinkplot.config(xlabel='index',\n",
      "                 ylabel='amplitude',\n",
      "                 loc='upper right')"
     ],
     "language": "python",
     "metadata": {},
     "outputs": []
    },
    {
     "cell_type": "markdown",
     "metadata": {},
     "source": [
      "Convolve the square wave with the Gaussian window."
     ]
    },
    {
     "cell_type": "code",
     "collapsed": false,
     "input": [
      "ys = numpy.convolve(wave.ys, gaussian, mode='same')\n",
      "smooth = thinkdsp.Wave(ys, framerate=wave.framerate)\n",
      "spectrum2 = smooth.make_spectrum()"
     ],
     "language": "python",
     "metadata": {},
     "outputs": []
    },
    {
     "cell_type": "markdown",
     "metadata": {},
     "source": [
      "Compute the ratio of the amplitudes."
     ]
    },
    {
     "cell_type": "code",
     "collapsed": false,
     "input": [
      "amps = spectrum.amps\n",
      "amps2 = spectrum2.amps\n",
      "ratio = amps2 / amps    \n",
      "ratio[amps<560] = 0"
     ],
     "language": "python",
     "metadata": {},
     "outputs": []
    },
    {
     "cell_type": "markdown",
     "metadata": {},
     "source": [
      "Compute the FFT of the window."
     ]
    },
    {
     "cell_type": "code",
     "collapsed": false,
     "input": [
      "padded = zero_pad(gaussian, len(wave))\n",
      "dft_gaussian = numpy.fft.rfft(padded)"
     ],
     "language": "python",
     "metadata": {},
     "outputs": []
    },
    {
     "cell_type": "markdown",
     "metadata": {},
     "source": [
      "Plot the ratios and the FFT of the window."
     ]
    },
    {
     "cell_type": "code",
     "collapsed": false,
     "input": [
      "thinkplot.plot(abs(dft_gaussian), color='0.7', label='Gaussian filter')\n",
      "thinkplot.plot(ratio, label='amplitude ratio')\n",
      "\n",
      "thinkplot.config(xlabel='frequency (Hz)',\n",
      "                 ylabel='amplitude ratio',\n",
      "                 xlim=[0, 22050], \n",
      "                 legend=False)"
     ],
     "language": "python",
     "metadata": {},
     "outputs": []
    },
    {
     "cell_type": "markdown",
     "metadata": {},
     "source": [
      "Combine the preceding example into one big function so we can interact with it."
     ]
    },
    {
     "cell_type": "code",
     "collapsed": false,
     "input": [
      "def plot_filter(M=11, std=2):\n",
      "    signal = thinkdsp.SquareSignal(freq=440)\n",
      "    wave = signal.make_wave(duration=1, framerate=44100)\n",
      "    spectrum = wave.make_spectrum()\n",
      "\n",
      "    gaussian = scipy.signal.gaussian(M=M, std=std)\n",
      "    gaussian /= sum(gaussian)\n",
      "\n",
      "    ys = numpy.convolve(wave.ys, gaussian, mode='same')\n",
      "    smooth = thinkdsp.Wave(ys, framerate=wave.framerate)\n",
      "    spectrum2 = smooth.make_spectrum()\n",
      "\n",
      "    # plot the ratio of the original and smoothed spectrum\n",
      "    amps = spectrum.amps\n",
      "    amps2 = spectrum2.amps\n",
      "    ratio = amps2 / amps    \n",
      "    ratio[amps<560] = 0\n",
      "\n",
      "    # plot the same ratio along with the FFT of the window\n",
      "    padded = zero_pad(gaussian, len(wave))\n",
      "    dft_gaussian = numpy.fft.rfft(padded)\n",
      "\n",
      "    thinkplot.plot(abs(dft_gaussian), color='0.7', label='Gaussian filter')\n",
      "    thinkplot.plot(ratio, label='amplitude ratio')\n",
      "\n",
      "    thinkplot.config(xlabel='frequency (Hz)',\n",
      "                     ylabel='amplitude ratio',\n",
      "                     xlim=[0, 22050],\n",
      "                     ylim=[0, 1.05],\n",
      "                     legend=False)"
     ],
     "language": "python",
     "metadata": {},
     "outputs": []
    },
    {
     "cell_type": "markdown",
     "metadata": {},
     "source": [
      "Try out difference values of `M` and `std`."
     ]
    },
    {
     "cell_type": "code",
     "collapsed": false,
     "input": [
      "from IPython.html.widgets import interact, fixed\n",
      "from IPython.html import widgets\n",
      "\n",
      "slider = widgets.IntSliderWidget(min=2, max=100, value=11)\n",
      "slider2 = widgets.FloatSliderWidget(min=0, max=20, value=2)\n",
      "interact(plot_filter, M=slider, std=slider2)\n",
      "None"
     ],
     "language": "python",
     "metadata": {},
     "outputs": []
    },
    {
     "cell_type": "markdown",
     "metadata": {},
     "source": [
      "Let's use the Convolution theorem to compute convolutions using FFT.  Read the bitcoin data again, and smooth it using `numpy.convolve` and a 30-day Gaussian window."
     ]
    },
    {
     "cell_type": "code",
     "collapsed": false,
     "input": [
      "ys = df.Close.values\n",
      "window = scipy.signal.gaussian(M=30, std=6)\n",
      "window /= window.sum()\n",
      "smoothed = numpy.convolve(ys, window, mode='valid')\n",
      "len(smoothed)"
     ],
     "language": "python",
     "metadata": {},
     "outputs": []
    },
    {
     "cell_type": "markdown",
     "metadata": {},
     "source": [
      "Plot the original and smoothed data."
     ]
    },
    {
     "cell_type": "code",
     "collapsed": false,
     "input": [
      "thinkplot.plot(ys, color='0.7')\n",
      "thinkplot.plot(smoothed)"
     ],
     "language": "python",
     "metadata": {},
     "outputs": []
    },
    {
     "cell_type": "markdown",
     "metadata": {},
     "source": [
      "Pad the window and compute its FFT."
     ]
    },
    {
     "cell_type": "code",
     "collapsed": false,
     "input": [
      "padded = zero_pad(window, len(ys))\n",
      "fft_window = numpy.fft.fft(padded)\n",
      "thinkplot.plot(numpy.absolute(fft_window))"
     ],
     "language": "python",
     "metadata": {},
     "outputs": []
    },
    {
     "cell_type": "markdown",
     "metadata": {},
     "source": [
      "Apply the convolution theorem."
     ]
    },
    {
     "cell_type": "code",
     "collapsed": false,
     "input": [
      "fft_signal = numpy.fft.fft(ys)\n",
      "smoothed2 = numpy.fft.ifft(fft_signal * fft_window)\n",
      "M = len(window)\n",
      "smoothed2 = smoothed2[M-1:]"
     ],
     "language": "python",
     "metadata": {},
     "outputs": []
    },
    {
     "cell_type": "markdown",
     "metadata": {},
     "source": [
      "Plot the two signals (smoothed with numpy and FFT)."
     ]
    },
    {
     "cell_type": "code",
     "collapsed": false,
     "input": [
      "thinkplot.plot(smoothed)\n",
      "thinkplot.plot(smoothed2.real)"
     ],
     "language": "python",
     "metadata": {},
     "outputs": []
    },
    {
     "cell_type": "markdown",
     "metadata": {},
     "source": [
      "Confirm that the difference is small."
     ]
    },
    {
     "cell_type": "code",
     "collapsed": false,
     "input": [
      "diff = smoothed - smoothed2\n",
      "sum(abs(diff))"
     ],
     "language": "python",
     "metadata": {},
     "outputs": []
    },
    {
     "cell_type": "markdown",
     "metadata": {},
     "source": [
      "`scipy.signal` provides `fftconvolve`, which computes convolutions using FFT."
     ]
    },
    {
     "cell_type": "code",
     "collapsed": false,
     "input": [
      "smoothed3 = scipy.signal.fftconvolve(ys, window, mode='valid')"
     ],
     "language": "python",
     "metadata": {},
     "outputs": []
    },
    {
     "cell_type": "markdown",
     "metadata": {},
     "source": [
      "Confirm that it gives the same answer, at least approximately."
     ]
    },
    {
     "cell_type": "code",
     "collapsed": false,
     "input": [
      "diff = smoothed - smoothed3\n",
      "sum(abs(diff))"
     ],
     "language": "python",
     "metadata": {},
     "outputs": []
    },
    {
     "cell_type": "markdown",
     "metadata": {},
     "source": [
      "We can encapsulate the process in a function:"
     ]
    },
    {
     "cell_type": "code",
     "collapsed": false,
     "input": [
      "def fft_convolve(signal, window):\n",
      "    fft_signal = numpy.fft.fft(signal)\n",
      "    fft_window = numpy.fft.fft(window)\n",
      "    return numpy.fft.ifft(fft_signal * fft_window)"
     ],
     "language": "python",
     "metadata": {},
     "outputs": []
    },
    {
     "cell_type": "markdown",
     "metadata": {},
     "source": [
      "And confirm that it gives the same answer."
     ]
    },
    {
     "cell_type": "code",
     "collapsed": false,
     "input": [
      "smoothed4 = fft_convolve(ys, padded)[M-1:]\n",
      "len(smoothed4)"
     ],
     "language": "python",
     "metadata": {},
     "outputs": []
    },
    {
     "cell_type": "code",
     "collapsed": false,
     "input": [
      "diff = smoothed - smoothed4\n",
      "sum(abs(diff))"
     ],
     "language": "python",
     "metadata": {},
     "outputs": []
    },
    {
     "cell_type": "markdown",
     "metadata": {},
     "source": [
      "We can also use the convolution theorem to compute autocorrelation functions.  Load the bitcoin data one more time:"
     ]
    },
    {
     "cell_type": "code",
     "collapsed": false,
     "input": [
      "ys = df.Close.values"
     ],
     "language": "python",
     "metadata": {},
     "outputs": []
    },
    {
     "cell_type": "markdown",
     "metadata": {},
     "source": [
      "Compute autocorrelation using `numpy.correlate`:"
     ]
    },
    {
     "cell_type": "code",
     "collapsed": false,
     "input": [
      "N = len(ys)\n",
      "corrs = numpy.correlate(ys, ys, mode='same')\n",
      "corrs = corrs[N//2:]\n",
      "corrs[:7]"
     ],
     "language": "python",
     "metadata": {},
     "outputs": []
    },
    {
     "cell_type": "markdown",
     "metadata": {},
     "source": [
      "Compute autocorrelation using my `fft_convolve`.  The window is a reversed copy of the signal.  We have to pad the window and signal with zeros and then select the middle half from the result."
     ]
    },
    {
     "cell_type": "code",
     "collapsed": false,
     "input": [
      "def fft_autocorr(signal):\n",
      "    N = len(signal)\n",
      "    window = signal[::-1]\n",
      "    signal = zero_pad(signal, 2*N)\n",
      "    window = zero_pad(window, 2*N)\n",
      "\n",
      "    corrs = fft_convolve(signal, window)\n",
      "    corrs = corrs[N//2: 3*N//2]\n",
      "    return corrs"
     ],
     "language": "python",
     "metadata": {},
     "outputs": []
    },
    {
     "cell_type": "markdown",
     "metadata": {},
     "source": [
      "Test the function."
     ]
    },
    {
     "cell_type": "code",
     "collapsed": false,
     "input": [
      "corrs2 = fft_autocorr(ys)\n",
      "corrs2 = corrs2[N//2:]\n",
      "corrs2[:7]"
     ],
     "language": "python",
     "metadata": {},
     "outputs": []
    },
    {
     "cell_type": "markdown",
     "metadata": {},
     "source": [
      "Plot the results."
     ]
    },
    {
     "cell_type": "code",
     "collapsed": false,
     "input": [
      "thinkplot.preplot(1)\n",
      "thinkplot.plot(corrs, color='0.7', linewidth=7, label='numpy.convolve')\n",
      "thinkplot.plot(corrs2.real, linewidth=2, label='fft_convolve')\n",
      "thinkplot.config(xlabel='lags', ylabel='correlation')\n",
      "len(corrs), len(corrs2)"
     ],
     "language": "python",
     "metadata": {},
     "outputs": []
    },
    {
     "cell_type": "markdown",
     "metadata": {},
     "source": [
      "Confirm that the difference is small."
     ]
    },
    {
     "cell_type": "code",
     "collapsed": false,
     "input": [
      "diff = corrs - corrs2\n",
      "sum(abs(diff))"
     ],
     "language": "python",
     "metadata": {},
     "outputs": []
    },
    {
     "cell_type": "markdown",
     "metadata": {},
     "source": []
    },
    {
     "cell_type": "code",
     "collapsed": false,
     "input": [],
     "language": "python",
     "metadata": {},
     "outputs": []
    },
    {
     "cell_type": "code",
     "collapsed": false,
     "input": [],
     "language": "python",
     "metadata": {},
     "outputs": []
    }
   ],
   "metadata": {}
  }
 ]
}