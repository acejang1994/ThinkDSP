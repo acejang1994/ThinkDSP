{
 "metadata": {
  "name": "",
  "signature": "sha256:3e6880d8eaeac8e9ee1c1493c6cffb95886f5efb84eda62a8bb89bf1abaf193f"
 },
 "nbformat": 3,
 "nbformat_minor": 0,
 "worksheets": [
  {
   "cells": [
    {
     "cell_type": "markdown",
     "metadata": {},
     "source": [
      "###PS09\n",
      "### James Jang, Ryan Louie, Filippos Lymeropoulos"
     ]
    },
    {
     "cell_type": "code",
     "collapsed": false,
     "input": [
      "from scipy.io import wavfile\n",
      "import numpy as np\n",
      "import matplotlib.pyplot as mplib\n",
      "import thinkdsp\n",
      "import thinkplot\n",
      "from array import array\n",
      "\n",
      "%precision 3\n",
      "%matplotlib inline\n",
      "\n",
      "\n",
      "# This function converts a string into a numpy array of bits\n",
      "# note that it is assumed that each character is 7 bits long here\n",
      "def string2NPArray(s):\n",
      "    bits = np.array([])\n",
      "    for a in bytearray(s, 'ascii'):\n",
      "        for b in range(0,7):\n",
      "            bits = np.append(bits,float((a>>(7-b-1))&1))\n",
      "    return bits\n",
      "\n",
      "# This function converts a numpy array of bits to a string\n",
      "# note that it is assumed that each character is 7 bits long here\n",
      "def NPbits2String(bits):\n",
      "    S = \"\"\n",
      "    for a in np.arange(0, np.ceil(len(bits)/7)):\n",
      "        tmp = 0\n",
      "        for k in np.arange(0,7):\n",
      "            b = bits[int(a*7+k)]\n",
      "            tmp = tmp + (2**(6-k))*b\n",
      "        S = S + chr(int(tmp))\n",
      "    return S\n",
      "\n",
      "# this function is used to help convert numpy array data into a format\n",
      "# suitable for writing into a wave file\n",
      "def convert_to_int16(sig):\n",
      "    # convert into int16  to write as wave\n",
      "    sig = (sig/np.max(sig))*(2**14)\n",
      "    sig = sig.astype('int16')\n",
      "    return sig\n",
      "\n",
      "\n",
      "# this is a utility function that  finds the start and  end \n",
      "# of transmission in the numpy array of samples xf\n",
      "# The function looks for the first instance where the entries of xf\n",
      "# go above threshold and returns the index into xf where this happens\n",
      "# in start_idx\n",
      "# The function looks for the last instance where the entries of xf\n",
      "# are above threshold and returns the index into xf where this happens\n",
      "# in end_idx\n",
      "# \n",
      "# You will probably have to do some trial and error to get the threshold right\n",
      "# one possibility is to se the threshold equal to some factor of the maximum value\n",
      "# in the input signal,  e.g. 0.3 * maximum value in xf\n",
      "#\n",
      "def find_start_and_end(xf, threshold = 2000): \n",
      "    import numpy as np    \n",
      "    start_idx = -1\n",
      " \n",
      "    for k in range(0, len(xf)):\n",
      "        if(np.abs(xf[k])) > threshold:\n",
      "            start_idx = k\n",
      "            break\n",
      "\n",
      "    if(start_idx  < 0):\n",
      "        print \"Unable to detect start of transmission\"\n",
      "        return -1\n",
      "    \n",
      "    end_idx = -1\n",
      "    \n",
      "    for k in range(0, len(xf)):\n",
      "        if(np.abs(xf[len(xf)-k-1])) > threshold:\n",
      "            end_idx = len(xf)-k-1\n",
      "            break\n",
      "\n",
      "    if(end_idx < 0):\n",
      "        print \"Unable to detect end of transmission\"\n",
      "        return -1\n",
      "\n",
      "    return start_idx, end_idx\n",
      "\n",
      "\n",
      "\n",
      "def record_from_mic_windows(duration = 10, filename = 'AcousticModemRx.wav'):\n",
      "\n",
      "    import subprocess\n",
      "    import time\n",
      "    cmd = \"SoundRecorder /FILE %s /DURATION 0000:00:%2d\" % (filename, duration)\n",
      "    print subprocess.check_output(cmd, shell=True)\n",
      "\n",
      "    # wait for the recording to complete\n",
      "    time.sleep(duration+2)\n",
      "  \n",
      "    # because soundrecorder in windows cannot set the sample rate \n",
      "    # we have to manually resample here\n",
      "\n",
      "    # read the wave file into sig      \n",
      "    fs, sig = wavfile.read(filename)\n",
      "    \n",
      "    \n",
      "    # if fs not 44100, return an error\n",
      "    if (fs != 44100):\n",
      "        print \"Sample rate must be 44100. Found it to be %d\" % fs\n",
      "        print \"Please change it in Windows Control Panel -> Sound -> Recording -> Microphone -> Advanced\"\n",
      "        return\n",
      "    \n",
      "    # discard one of the stereo channels\n",
      "    sig = sig[:,0]\n",
      "    \n",
      "    # make a lowpass filter with cutoff 4410\n",
      "    # this is going to be our anti-aliasing filter\n",
      "    ts = np.arange(0, len(sig)/float(fs), 1/float(fs))\n",
      "    filt = np.sinc(np.arange(-64/float(fs), 64/float(fs), 1/float(fs))/np.pi * 4410.0*2*np.pi)\n",
      "    \n",
      "    # lowpass filter the signal to avoid inadvertent aliasing\n",
      "    sig_down = np.convolve(filt, sig)\n",
      "    \n",
      "    # Downsample by 5 to go from 44100 -> 8820Hz\n",
      "    sig_down = sig_down[0:len(sig_down): 5]\n",
      "     \n",
      "    return (8820, sig_down)\n",
      "\n",
      "\n",
      "\n",
      "def record_from_mic_linux(duration = 10, filename = 'AcousticModemRx.wav', rate = 8820):\n",
      "    import subprocess\n",
      "    import time\n",
      "    \n",
      "    # call arecord\n",
      "    cmd = \"arecord -d %d -r %d %s\" %(duration, rate, filename)   \n",
      "    subprocess.check_output(cmd, shell=True)\n",
      "    # wait for the recording to complete\n",
      "    time.sleep(duration+2)\n",
      "    fs, x = wavfile.read(filename)\n",
      "    return (fs,x)\n"
     ],
     "language": "python",
     "metadata": {},
     "outputs": [],
     "prompt_number": 251
    },
    {
     "cell_type": "markdown",
     "metadata": {},
     "source": [
      "You should first generate a BPSK transmitted signal on a different computer using AcousticModemTransmitter-NoPyAudio\n",
      "Before you hit play the audio signal on that computer, you should start recording the microphone input on your receiver computer (i.e. this one).  This will ensure that you do not miss the beginning of the transmission. \n",
      "\n",
      "You can record the audio signal using an audio recording program such as audacity (windows/linux), or arecord(linux if you have ALSA) and save it to AcousticModemRx.wav You should use 16bit-PCM data, a sample rate of 8820Hz and mono to make the recording. If you are running on windows, you can use record_from_mic_windows defined above.\n",
      "\n",
      "In Linux if you have ALSA installed, you can run arecord AcousticModemRx.wav to record and hit control-C to stop recording. "
     ]
    },
    {
     "cell_type": "markdown",
     "metadata": {},
     "source": [
      "In the following cell, the received BPSK audio signal is processed to decode the message. It is assumed that the audio signal is stored in AcousticModemRx.wav\n",
      "\n",
      "The BPSK bits are decoded using decode_bpsk_signal from the bpsk module. \n",
      "\n",
      "Your job is to design your own version of the  transmitter and decode_bpsk_signal. \n",
      "\n",
      "You will likely have to tweak the detection_threshold_factor here to make it work reliably for your set of computers/physical environment."
     ]
    },
    {
     "cell_type": "code",
     "collapsed": false,
     "input": [
      "def decode_bpsk_signal(x, freq=1000, rate = 8000, symbol_len = 250, detection_threshold_factor = 0.3, LPFbw = 320):\n",
      "\n",
      "    \"\"\"\n",
      "    Decodes a received BPSK signal in vector x and produces a numpyarray of bits \n",
      "    The function uses a brute-force approach to carrier phase synchronization by checking 16 evenly spaced\n",
      "    phase offsets between -pi and pi to find the one which results in the strongest demodulated signal\n",
      "    which is then used as the demodulated signal\n",
      "    The first bit is assumed to be a control bit that always equals 1. This bit is not returned in the final output\n",
      "    \n",
      "    Arguments\n",
      "    ---------\n",
      "    x - a numpy array of the received audio samples\n",
      "    freq - carrier frequency \n",
      "    rate - sample rate used \n",
      "    symbol_len - length in samples of the rectangular pulse\n",
      "    detection_threshold_factor - this is used for detecting the start and end of transmission\n",
      "                              the start of transmission is the first sample that exceeds\n",
      "                              detection_threshold_factor times the maximum value in x\n",
      "                              the end of transmission is the last sample that exceeds\n",
      "                              detection_threshold_factor times the maximum value in x\n",
      "    LPFbw - this is the bandwidth in rad/sec of the low-pass filter that is used after\n",
      "         multiplying with a cosine\n",
      "    \"\"\"\n",
      "    \n",
      "    start_i, end_i = find_start_and_end(x)\n",
      "    x = x[start_i:end_i]\n",
      "\n",
      "    foo = []\n",
      "    ts = np.arange(0, len(x)/float(rate), 1/float(rate))\n",
      "    \n",
      "    for t, n in zip(ts, x):\n",
      "        foo += [-n*np.cos(2 * np.pi * freq * t)]\n",
      "  \n",
      "    x = foo\n",
      "    wave = thinkdsp.Wave(x, rate)\n",
      "    spectrum = wave.make_spectrum()\n",
      "    spectrum.low_pass(320/2)\n",
      "    x = spectrum.make_wave().ys\n",
      "    \n",
      "    foo1 = []\n",
      "    \n",
      "# checks for the first bit and flips the signal accordingly\n",
      "    if np.mean(x[0:symbol_len]) == 0.0:\n",
      "        for i in range(0,int(len(x)/symbol_len)+1):\n",
      "            if np.mean(x[symbol_len*(i):symbol_len*(i+1)]) > 0:\n",
      "                foo1 += [np.float64(1.)]\n",
      "            else:\n",
      "                foo1 += [np.float64(0.)]\n",
      "    else:\n",
      "        for i in range(0,int(len(x)/symbol_len)+1):\n",
      "            if np.mean(x[symbol_len*(i):symbol_len*(i+1)]) < 0:\n",
      "                foo1 += [np.float64(1.)]\n",
      "            else:\n",
      "                foo1 += [np.float64(0.)]\n",
      "\n",
      "    return foo, x, foo1    \n",
      "    "
     ],
     "language": "python",
     "metadata": {},
     "outputs": [],
     "prompt_number": 258
    },
    {
     "cell_type": "code",
     "collapsed": false,
     "input": [
      "import bpsk\n",
      "\n",
      "# if you are running on windows, you can uncomment this line to record from the mic for 10s\n",
      "# using windows soundrecorder. Make sure that windows soundrecorder is not already running\n",
      "# and set the sample rate in Control Panel -> Sound -> Recording -> Microphone -> Advanced\n",
      "# to 44100\n",
      "# you can then comment out the subsequent line \n",
      "\n",
      "# fs, x = record_from_mic_windows(duration = 10, filename = 'AcousticModemRx.wav')\n",
      "\n",
      "\n",
      "fs, x = wavfile.read('AcousticModemTx.wav')\n",
      "\n",
      "# decode received signal into a numpy array of bits\n",
      "first, second, ourbits = decode_bpsk_signal(x, freq=1000, rate = fs, symbol_len = 250, detection_threshold_factor = .4, LPFbw = 320)\n",
      "# bits = bpsk.decode_bpsk_signal(x, freq=1000, rate = fs, symbol_len = 250, detection_threshold_factor = .4, LPFbw = 320)\n",
      "\n",
      "# convert the numpy array of bits into a string\n",
      "\n",
      "# print len(bits) , bits, type(bits[1])\n",
      "# message_string = NPbits2String(bits)\n",
      "# print message_string"
     ],
     "language": "python",
     "metadata": {},
     "outputs": [
      {
       "output_type": "stream",
       "stream": "stdout",
       "text": [
        "28\n"
       ]
      }
     ],
     "prompt_number": 260
    },
    {
     "cell_type": "code",
     "collapsed": false,
     "input": [
      "thinkplot.plot(first)"
     ],
     "language": "python",
     "metadata": {},
     "outputs": [
      {
       "metadata": {},
       "output_type": "display_data",
       "png": "[encoded data removed]",
       "text": [
        "<matplotlib.figure.Figure at 0x7f9eb0ab8910>"
       ]
      }
     ],
     "prompt_number": 254
    },
    {
     "cell_type": "markdown",
     "metadata": {},
     "source": [
      "We multiply -n * np.cos(2 * np.pi * freq * t) to the signal to reverse the encoding."
     ]
    },
    {
     "cell_type": "code",
     "collapsed": false,
     "input": [
      "thinkplot.plot(second)"
     ],
     "language": "python",
     "metadata": {},
     "outputs": [
      {
       "metadata": {},
       "output_type": "display_data",
       "png": "[encoded data removed]",
       "text": [
        "<matplotlib.figure.Figure at 0x7f9eb0641b50>"
       ]
      }
     ],
     "prompt_number": 255
    },
    {
     "cell_type": "markdown",
     "metadata": {},
     "source": [
      "This is the representation of the wave after the low pass filter is applied. We applied the low pass filter method of the Spectrum class by using Allen Downey's thinkdsp library by turning the signal into a Wave and then to Spectrum."
     ]
    },
    {
     "cell_type": "code",
     "collapsed": false,
     "input": [
      "# cutoff the first bit\n",
      "message_string1 = NPbits2String(ourbits[1:])\n",
      "\n",
      "# print the decoded string\n",
      "\n",
      "print len(ourbits) ,ourbits, type(ourbits[1])\n",
      "print message_string1"
     ],
     "language": "python",
     "metadata": {},
     "outputs": [
      {
       "output_type": "stream",
       "stream": "stdout",
       "text": [
        "29 [1.0, 1.0, 0.0, 1.0, 0.0, 0.0, 1.0, 0.0, 1.0, 1.0, 1.0, 1.0, 0.0, 0.0, 1.0, 1.0, 1.0, 0.0, 0.0, 0.0, 0.0, 1.0, 1.0, 1.0, 0.0, 1.0, 1.0, 1.0, 0.0] <type 'numpy.float64'>\n",
        "Ryan\n"
       ]
      }
     ],
     "prompt_number": 261
    }
   ],
   "metadata": {}
  }
 ]
}