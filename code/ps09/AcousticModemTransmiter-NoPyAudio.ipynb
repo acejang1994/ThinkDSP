{
 "metadata": {
  "name": "",
  "signature": "sha256:691401304ff7e464ff1dc2cce63bb9de89d91c8e1e410b0ce283e919f3f75f3d"
 },
 "nbformat": 3,
 "nbformat_minor": 0,
 "worksheets": [
  {
   "cells": [
    {
     "cell_type": "markdown",
     "metadata": {},
     "source": [
      "###PS09\n",
      "###James Jang, Ryan Louie, Filippos Lymeropoulos"
     ]
    },
    {
     "cell_type": "code",
     "collapsed": false,
     "input": [
      "from scipy.io import wavfile\n",
      "import numpy as np\n",
      "import matplotlib.pyplot as mplib\n",
      "import thinkdsp\n",
      "from array import array\n",
      "\n",
      "\n",
      "# This function converts a string into a numpy array of bits\n",
      "# note that it is assumed that each character is 7 bits long here\n",
      "def string2NPArray(s):\n",
      "    bits = np.array([])\n",
      "    for a in bytearray(s, 'ascii'):\n",
      "        for b in range(0,7):\n",
      "            bits = np.append(bits,float((a>>(7-b-1))&1))\n",
      "    return bits\n",
      "\n",
      "# This function converts a numpy array of bits to a string\n",
      "# note that it is assumed that each character is 7 bits long here\n",
      "def NPbits2String(bits):\n",
      "    S = \"\"\n",
      "    for a in np.arange(0, np.ceil(len(bits)/7)):\n",
      "        tmp = 0\n",
      "        for k in np.arange(0,7):\n",
      "            b = bits[a*7+k]\n",
      "            tmp = tmp + (2**(6-k))*b\n",
      "        S = S + chr(int(tmp))\n",
      "    return S\n",
      "\n",
      "# this function is used to help convert numpy array data into a format\n",
      "# suitable for writing into a wave file\n",
      "def convert_to_int16(sig):\n",
      "    # convert into int16  to write as wave\n",
      "    sig = (sig/np.max(sig))*(2**14)\n",
      "    sig = sig.astype('int16')\n",
      "    return sig\n",
      "    \n",
      "\n",
      "# this is a utility function that  finds the start and  end \n",
      "# of transmission in the numpy array of samples xf\n",
      "# The function looks for the first instance where the entries of xf\n",
      "# go above threshold and returns the index into xf where this happens\n",
      "# in start_idx\n",
      "# The function looks for the last instance where the entries of xf\n",
      "# are above threshold and returns the index into xf where this happens\n",
      "# in end_idx\n",
      "# \n",
      "# You will probably have to do some trial and error to get the threshold right\n",
      "# one possibility is to se the threshold equal to some factor of the maximum value\n",
      "# in the input signal,  e.g. 0.3 * maximum value in xf\n",
      "#\n",
      "def find_start_and_end(xf, threshold = 2000): \n",
      "    import numpy as np    \n",
      "    start_idx = -1\n",
      " \n",
      "    for k in range(0, len(xf)):\n",
      "        if(np.abs(xf[k])) > threshold:\n",
      "            start_idx = k\n",
      "            break\n",
      "\n",
      "    if(start_idx  < 0):\n",
      "        print \"Unable to detect start of transmission\"\n",
      "        return -1\n",
      "    \n",
      "    end_idx = -1\n",
      "    \n",
      "    for k in range(0, len(xf)):\n",
      "        if(np.abs(xf[len(xf)-k-1])) > threshold:\n",
      "            end_idx = len(xf)-k-1\n",
      "            break\n",
      "\n",
      "    if(end_idx < 0):\n",
      "        print \"Unable to detect end of transmission\"\n",
      "        return -1\n",
      "\n",
      "    return start_idx, end_idx"
     ],
     "language": "python",
     "metadata": {},
     "outputs": [],
     "prompt_number": 1
    },
    {
     "cell_type": "markdown",
     "metadata": {},
     "source": [
      "bpsk is a module that is provided as python bytecode. bpsk.help() provides the syntax and definitions of the parameters of the functions that are included in the bpsk module"
     ]
    },
    {
     "cell_type": "code",
     "collapsed": false,
     "input": [
      "import bpsk\n",
      "\n",
      "bpsk.help()"
     ],
     "language": "python",
     "metadata": {},
     "outputs": [
      {
       "output_type": "stream",
       "stream": "stdout",
       "text": [
        "This module provides:\n",
        "\n",
        "     generate_bpsk_signal(bits, rate=8000, symbol_len = 250, freq = 1000):\n",
        "         Returns a numpy array which is a BPSK encoding of bits\n",
        "         1 symbol worth of zeros are added at the beginning and the end to aid detection of transmission start\n",
        "         A 1 bit is added to the beginning to help with synchronization\n",
        "         bits -  a numpy array of 1s and 0s\n",
        "         rate - sample rate used\n",
        "         symbol_len - length in samples of the rectangular pulse used to encode the bits\n",
        "         freq - carrier frequency in Hz\n",
        "\n",
        "     decode_bpsk_signal(x, freq=1000, rate = 8000, symbol_len = 250, detection_threshold_factor = 0.3, LPFbw = 320):\n",
        "         Decodes a received BPSK signal in vector x and produces a numpyarray of bits \n",
        "         The function uses a brute-force approach to carrier phase synchronization by checking 16 evenly spaced\n",
        "         phase offsets between -pi and pi to find the one which results in the strongest demodulated signal\n",
        "         which is then used as the demodulated signal\n",
        "         The first bit is assumed to be a control bit that always equals 1. This bit is not returned in the final output\n",
        "         x - a numpy array of the received audio samples\n",
        "         freq - carrier frequency \n",
        "         rate - sample rate used \n",
        "         symbol_len - length in samples of the rectangular pulse\n",
        "         detection_threshold_factor - this is used for detecting the start and end of transmission\n",
        "                                      the start of transmission is the first sample that exceeds\n",
        "                                      detection_threshold_factor times the maximum value in x\n",
        "                                      the end of transmission is the last sample that exceeds\n",
        "                                      detection_threshold_factor times the maximum value in x\n",
        "         LPFbw - this is the bandwidth in rad/sec of the low-pass filter that is used after\n",
        "                 multiplying with a cosine\n"
       ]
      }
     ],
     "prompt_number": 2
    },
    {
     "cell_type": "markdown",
     "metadata": {},
     "source": [
      "The following cell generates a bpsk signal and plays it through the sound card\n",
      "Your job will be to make your own function that generates the transmitted signal, i.e. your own version of bpsk.generate_bpsk_signal. Run bpsk.help() to learn about what  bpsk.generate_bpsk_signal does. At a minimum, you should be able to transmit a 5 character word from one computer to another over the air."
     ]
    },
    {
     "cell_type": "code",
     "collapsed": false,
     "input": [
      "def generate_bpsk_signal(bits, rate=8000, symbol_len = 250, freq = 1000):\n",
      "    \"\"\"\n",
      "    Returns a numpy array which is a BPSK encoding of bits\n",
      "    1 symbol worth of zeros are added at the beginning and the end to aid detection of transmission start\n",
      "    A 1 bit is added to the beginning to help with synchronization\n",
      "    Arguments\n",
      "    ---------\n",
      "    bits -  a numpy array of 1s and 0s\n",
      "    rate - sample rate used\n",
      "    symbol_len - length in samples of the rectangular pulse used to encode the bits\n",
      "    freq - carrier frequency in Hz\n",
      "    \"\"\"\n",
      "    # extend with symbol len\n",
      "    bits = np.concatenate([np.tile(bit, symbol_len) for bit in bits])\n",
      "    \n",
      "    # A 1 bit is added to the beginning to help with synchronization\n",
      "    bits = np.concatenate((np.ones(symbol_len), bits))\n",
      "    \n",
      "    # Convert 0 and 1's to -1 and 1 \n",
      "    bits = 2 * (bits - 0.5)\n",
      "    \n",
      "    # m(t) * cos(wt)\n",
      "    foo = []\n",
      "    ts = np.arange(0, len(bits)/float(rate), 1/float(rate))\n",
      "    for t, n in zip(ts, bits):\n",
      "        foo += [7000*n * np.cos(2 * np.pi * freq * t)]    \n",
      "    \n",
      "    return np.concatenate((np.zeros(symbol_len), foo, np.zeros(symbol_len)))"
     ],
     "language": "python",
     "metadata": {},
     "outputs": [],
     "prompt_number": 3
    },
    {
     "cell_type": "code",
     "collapsed": false,
     "input": [
      "\n",
      "# convert a text string to a numpy array of 1s and 0s\n",
      "bits = string2NPArray(\"Ryan\")\n",
      "\n",
      "# generate a BPSK signal with 8820 samples per second, and 250 sample long symbols, and carrier frequency of 1kHz\n",
      "# x = bpsk.generate_bpsk_signal(bits, rate = 8820, symbol_len = 250, freq = 1000)\n",
      "x = generate_bpsk_signal(bits, rate = 8820, symbol_len = 250, freq = 1000)\n",
      "rate = 8820\n",
      "# plot the signal to visualize\n",
      "# first make a vector to represent the sampling times\n",
      "# the times range from t = 0 up to the length of the data samples times the sampling period\n",
      "ts = np.arange(0, len(x)/float(rate), 1/float(rate))\n",
      "# plot the signal in the time domain\n",
      "# you should zoom in to see the BPSK signal\n",
      "mplib.plot(ts, x)\n",
      "mplib.show()\n",
      "\n",
      "# write the wave file for the first signal which is assumed\n",
      "# to  be in stored in the numpy array x\n",
      "wavfile.write('AcousticModemTx.wav', 8820, convert_to_int16(x))"
     ],
     "language": "python",
     "metadata": {},
     "outputs": [],
     "prompt_number": 4
    },
    {
     "cell_type": "code",
     "collapsed": false,
     "input": [
      "# use thinkdsp tools to play the wave file with the BPSK signal\n",
      "wave = thinkdsp.read_wave('AcousticModemTx.wav')\n",
      "wave.normalize()\n",
      "wave.make_audio()\n"
     ],
     "language": "python",
     "metadata": {},
     "outputs": [
      {
       "html": [
        "\n",
        "                <audio controls=\"controls\" >\n",
        "                    <source src=\"data:audio/wav;base64,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\" type=\"audio/wav\" />\n",
        "                    Your browser does not support the audio element.\n",
        "                </audio>\n",
        "              "
       ],
       "metadata": {},
       "output_type": "pyout",
       "prompt_number": 5,
       "text": [
        "<IPython.lib.display.Audio at 0x7f4a3ba19890>"
       ]
      }
     ],
     "prompt_number": 5
    },
    {
     "cell_type": "code",
     "collapsed": false,
     "input": [],
     "language": "python",
     "metadata": {},
     "outputs": [],
     "prompt_number": 5
    }
   ],
   "metadata": {}
  }
 ]
}