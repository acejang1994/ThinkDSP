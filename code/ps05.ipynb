{
 "metadata": {
  "name": "",
  "signature": "sha256:70520b9408471c1e2cc183a5de66c46ba21c70e856f4884e83a8651c2aa04949"
 },
 "nbformat": 3,
 "nbformat_minor": 0,
 "worksheets": [
  {
   "cells": [
    {
     "cell_type": "markdown",
     "metadata": {},
     "source": [
      "###Question 1\n",
      "Following the example in chap07.ipynb, make a synthesis matrix (the IDFT matrix) using a different range of frequencies, and see what difference it makes.\n",
      "\n",
      "The usual version of IDFT uses frequencies 0 through N-1.  What happens if you go from N to 2N-1?"
     ]
    },
    {
     "cell_type": "code",
     "collapsed": false,
     "input": [
      "from __future__ import print_function, division\n",
      "\n",
      "import thinkdsp\n",
      "import thinkplot\n",
      "import thinkstats2\n",
      "import math\n",
      "import numpy\n",
      "\n",
      "%precision 3\n",
      "%matplotlib inline\n",
      "\n",
      "PI2 = 2 * math.pi\n",
      "i = complex(0, 1)"
     ],
     "language": "python",
     "metadata": {},
     "outputs": [],
     "prompt_number": 3
    },
    {
     "cell_type": "code",
     "collapsed": false,
     "input": [
      "N = 8\n",
      "ts = numpy.arange(N) / N\n",
      "freqs = numpy.arange(N)\n",
      "args = numpy.outer(ts, freqs)\n",
      "M = numpy.exp(i * PI2 * args)"
     ],
     "language": "python",
     "metadata": {},
     "outputs": [],
     "prompt_number": 6
    },
    {
     "cell_type": "code",
     "collapsed": false,
     "input": [
      "N = 8\n",
      "ts = numpy.arange(N) / N\n",
      "freqs = numpy.arange(N, 2*N)\n",
      "args = numpy.outer(ts, freqs)\n",
      "M = numpy.exp(i * PI2 * args)\n",
      "freqs"
     ],
     "language": "python",
     "metadata": {},
     "outputs": [
      {
       "metadata": {},
       "output_type": "pyout",
       "prompt_number": 8,
       "text": [
        "array([ 8,  9, 10, 11, 12, 13, 14, 15])"
       ]
      }
     ],
     "prompt_number": 8
    },
    {
     "cell_type": "markdown",
     "metadata": {},
     "source": [
      "they are the same because of aliasing"
     ]
    },
    {
     "cell_type": "code",
     "collapsed": false,
     "input": [
      "Mstar = M.conj().transpose()\n",
      "Mstar"
     ],
     "language": "python",
     "metadata": {},
     "outputs": [
      {
       "metadata": {},
       "output_type": "pyout",
       "prompt_number": 5,
       "text": [
        "array([[  1.000e+00 -0.000e+00j,   1.000e+00 -0.000e+00j,\n",
        "          1.000e+00 -0.000e+00j,   1.000e+00 -0.000e+00j,\n",
        "          1.000e+00 -0.000e+00j,   1.000e+00 -0.000e+00j,\n",
        "          1.000e+00 -0.000e+00j,   1.000e+00 -0.000e+00j],\n",
        "       [  1.000e+00 -0.000e+00j,   7.071e-01 -7.071e-01j,\n",
        "          6.123e-17 -1.000e+00j,  -7.071e-01 -7.071e-01j,\n",
        "         -1.000e+00 -1.225e-16j,  -7.071e-01 +7.071e-01j,\n",
        "         -1.837e-16 +1.000e+00j,   7.071e-01 +7.071e-01j],\n",
        "       [  1.000e+00 -0.000e+00j,   6.123e-17 -1.000e+00j,\n",
        "         -1.000e+00 -1.225e-16j,  -1.837e-16 +1.000e+00j,\n",
        "          1.000e+00 +2.449e-16j,   3.062e-16 -1.000e+00j,\n",
        "         -1.000e+00 -3.674e-16j,  -4.286e-16 +1.000e+00j],\n",
        "       [  1.000e+00 -0.000e+00j,  -7.071e-01 -7.071e-01j,\n",
        "         -1.837e-16 +1.000e+00j,   7.071e-01 -7.071e-01j,\n",
        "         -1.000e+00 -3.674e-16j,   7.071e-01 +7.071e-01j,\n",
        "          5.511e-16 -1.000e+00j,  -7.071e-01 +7.071e-01j],\n",
        "       [  1.000e+00 -0.000e+00j,  -1.000e+00 -1.225e-16j,\n",
        "          1.000e+00 +2.449e-16j,  -1.000e+00 -3.674e-16j,\n",
        "          1.000e+00 +4.898e-16j,  -1.000e+00 -6.123e-16j,\n",
        "          1.000e+00 +7.348e-16j,  -1.000e+00 -8.572e-16j],\n",
        "       [  1.000e+00 -0.000e+00j,  -7.071e-01 +7.071e-01j,\n",
        "          3.062e-16 -1.000e+00j,   7.071e-01 +7.071e-01j,\n",
        "         -1.000e+00 -6.123e-16j,   7.071e-01 -7.071e-01j,\n",
        "         -2.695e-15 +1.000e+00j,  -7.071e-01 -7.071e-01j],\n",
        "       [  1.000e+00 -0.000e+00j,  -1.837e-16 +1.000e+00j,\n",
        "         -1.000e+00 -3.674e-16j,   5.511e-16 -1.000e+00j,\n",
        "          1.000e+00 +7.348e-16j,  -2.695e-15 +1.000e+00j,\n",
        "         -1.000e+00 -1.102e-15j,  -4.905e-16 -1.000e+00j],\n",
        "       [  1.000e+00 -0.000e+00j,   7.071e-01 +7.071e-01j,\n",
        "         -4.286e-16 +1.000e+00j,  -7.071e-01 +7.071e-01j,\n",
        "         -1.000e+00 -8.572e-16j,  -7.071e-01 -7.071e-01j,\n",
        "         -4.905e-16 -1.000e+00j,   7.071e-01 -7.071e-01j]])"
       ]
      }
     ],
     "prompt_number": 5
    },
    {
     "cell_type": "code",
     "collapsed": false,
     "input": [],
     "language": "python",
     "metadata": {},
     "outputs": []
    }
   ],
   "metadata": {}
  }
 ]
}