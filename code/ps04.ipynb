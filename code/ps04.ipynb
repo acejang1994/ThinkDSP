{
 "metadata": {
  "name": "",
  "signature": "sha256:4e70ce69daa65489cb230a1a64385c4782bb64e75cf3fc2a4b92750b15f98897"
 },
 "nbformat": 3,
 "nbformat_minor": 0,
 "worksheets": [
  {
   "cells": [
    {
     "cell_type": "markdown",
     "metadata": {},
     "source": [
      "Problem set 4\n",
      "James Jang"
     ]
    },
    {
     "cell_type": "code",
     "collapsed": false,
     "input": [
      "from __future__ import print_function, division\n",
      "\n",
      "import thinkdsp\n",
      "import thinkplot\n",
      "import thinkstats2\n",
      "import math\n",
      "import numpy\n",
      "import pandas\n",
      "import scipy.signal\n",
      "\n",
      "%matplotlib inline"
     ],
     "language": "python",
     "metadata": {},
     "outputs": [],
     "prompt_number": 2
    },
    {
     "cell_type": "markdown",
     "metadata": {},
     "source": [
      "###Question 1\n",
      "Please finish this exercise that we started in class: One of the examples in chap07.ipynb compares two mixtures of complex sinusoids, one with offset=0 and one with offset=1.  The result is a different looking waveform, because \"rotating\" each component by the same phase offset does not shift each component by the same amount of time.\n",
      "\n",
      "Can you construct a vector of complex amplitudes that shifts all components by the same amount of time?"
     ]
    },
    {
     "cell_type": "code",
     "collapsed": false,
     "input": [],
     "language": "python",
     "metadata": {},
     "outputs": []
    },
    {
     "cell_type": "markdown",
     "metadata": {},
     "source": [
      "###Question 2\n",
      "In Chapter 7 I represented the DFT as matrix multiplication, but the more common presentation is as a summation:\n",
      "\n",
      "From http://en.wikipedia.org/wiki/Discrete_Fourier_transform:\n",
      "\n",
      "Read the Wikipedia page on DFT.  Write an implementation of DFT based on this summation and compare your results to my implementation and/or numpy.fft.fft."
     ]
    },
    {
     "cell_type": "markdown",
     "metadata": {},
     "source": [
      "###Question 3\n",
      "In Chapter 7, I showed how we can express the DFT and inverse DFT as matrix multiplications. These operations are relatively fast, taking time proportional to N2, where N is the length of the wave array. That would be fast enough for many applications, but it turns out that there is a faster algorithm, the Fast Fourier Transform (FFT), which takes time proportional to N logN.\n",
      "\n",
      "Read about the FFT at http://en.wikipedia.org/wiki/Cooley-Tukey_FFT_algorithm, and write an implementation. Hint: I suggest you write a simple version as a recursive function; don\u2019t worry about \u201cdata reordering, bit reversal, and in-place algorithms\u201d."
     ]
    },
    {
     "cell_type": "markdown",
     "metadata": {},
     "source": [
      "###Question 4\n",
      "Using the timing code from PS03, compare the performance of my implementation of autocorr from Chapter 5, my fft_autocorr from Chapter 8, and numpy.correlate.  Can you tell whether NumPy is using the FFT algorithm?"
     ]
    }
   ],
   "metadata": {}
  }
 ]
}